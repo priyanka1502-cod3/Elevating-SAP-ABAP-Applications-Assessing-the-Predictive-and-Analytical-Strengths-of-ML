{
 "cells": [
  {
   "cell_type": "code",
   "execution_count": 8,
   "metadata": {},
   "outputs": [
    {
     "name": "stdout",
     "output_type": "stream",
     "text": [
      "Status code: 200\n",
      "Response content: [25.13]\n",
      "\n",
      "[25.13]\n"
     ]
    }
   ],
   "source": [
    "import requests\n",
    "import json\n",
    "\n",
    "data = {\n",
    "    \"input\": [0.00632, 18.0, 2.31, 0, 0.538, 6.575, 65.2, 4.0900, 1, 296, 15.3, 396.90, 4.98]\n",
    "}\n",
    "\n",
    "response = requests.post(\"http://priyanka2023.pythonanywhere.com/predict\", json=data)\n",
    "\n",
    "# Print out status code and response text for debugging\n",
    "print(\"Status code:\", response.status_code)\n",
    "print(\"Response content:\", response.text)\n",
    "\n",
    "# Only attempt to parse as JSON if the status code indicates success\n",
    "if response.status_code == 200:\n",
    "    print(response.json())\n",
    "else:\n",
    "    print(\"Request was not successful.\")\n"
   ]
  },
  {
   "cell_type": "code",
   "execution_count": null,
   "metadata": {},
   "outputs": [],
   "source": []
  }
 ],
 "metadata": {
  "kernelspec": {
   "display_name": "Python 3.10",
   "language": "python",
   "name": "python3.10"
  },
  "language_info": {
   "codemirror_mode": {
    "name": "ipython",
    "version": 3
   },
   "file_extension": ".py",
   "mimetype": "text/x-python",
   "name": "python",
   "nbconvert_exporter": "python",
   "pygments_lexer": "ipython3",
   "version": "3.10.5"
  }
 },
 "nbformat": 4,
 "nbformat_minor": 1
}
